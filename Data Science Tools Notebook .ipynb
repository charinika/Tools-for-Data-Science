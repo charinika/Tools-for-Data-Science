{
  "metadata": {
    "kernelspec": {
      "name": "python",
      "display_name": "Python (Pyodide)",
      "language": "python"
    },
    "language_info": {
      "codemirror_mode": {
        "name": "python",
        "version": 3
      },
      "file_extension": ".py",
      "mimetype": "text/x-python",
      "name": "python",
      "nbconvert_exporter": "python",
      "pygments_lexer": "ipython3",
      "version": "3.8"
    }
  },
  "nbformat_minor": 4,
  "nbformat": 4,
  "cells": [
    {
      "cell_type": "markdown",
      "source": "# My Data Science Tools Notebook",
      "metadata": {}
    },
    {
      "cell_type": "markdown",
      "source": "## Introduction\nThis notebook provides an overview of various tools, libraries, and languages used in data science.",
      "metadata": {}
    },
    {
      "cell_type": "markdown",
      "source": "## Data Science Languages\n- Python\n- R\n- SQL\n- Java\n- Julia",
      "metadata": {}
    },
    {
      "cell_type": "markdown",
      "source": "## Data Science Libraries\n- Pandas\n- NumPy\n- Matplotlib\n- Scikit-learn\n- TensorFlow",
      "metadata": {}
    },
    {
      "cell_type": "markdown",
      "source": "## Data Science Tools\n| Tool           | Purpose                              |\n|----------------|--------------------------------------|\n| Jupyter Notebook | Development environment             |\n| RStudio        | Development environment for R         |\n| Apache Spark   | Big Data processing                   |\n| TensorFlow     | Deep Learning library                |",
      "metadata": {
        "jp-MarkdownHeadingCollapsed": true
      }
    },
    {
      "cell_type": "markdown",
      "source": "## Arithmetic Expression Examples\nBelow are examples of basic arithmetic operations in Python.",
      "metadata": {}
    },
    {
      "cell_type": "code",
      "source": "# Multiplication and Addition\nresult = (5 * 4) + 2\nresult",
      "metadata": {
        "trusted": true
      },
      "outputs": [
        {
          "execution_count": 2,
          "output_type": "execute_result",
          "data": {
            "text/plain": "22"
          },
          "metadata": {}
        }
      ],
      "execution_count": 2
    },
    {
      "cell_type": "code",
      "source": "# Convert minutes to hours\nminutes = 150\nhours = minutes / 60\nhours",
      "metadata": {
        "trusted": true
      },
      "outputs": [
        {
          "execution_count": 3,
          "output_type": "execute_result",
          "data": {
            "text/plain": "2.5"
          },
          "metadata": {}
        }
      ],
      "execution_count": 3
    },
    {
      "cell_type": "markdown",
      "source": "## Objectives\n- Learn about data science languages\n- Explore data science libraries\n- Understand data science tools\n- Perform arithmetic operations in Python",
      "metadata": {}
    },
    {
      "cell_type": "markdown",
      "source": "## Author\nCharinika P",
      "metadata": {}
    }
  ]
}